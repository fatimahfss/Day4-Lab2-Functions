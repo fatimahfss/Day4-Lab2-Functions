{
  "nbformat": 4,
  "nbformat_minor": 0,
  "metadata": {
    "colab": {
      "name": "Untitled1.ipynb",
      "provenance": []
    },
    "kernelspec": {
      "name": "python3",
      "display_name": "Python 3"
    },
    "language_info": {
      "name": "python"
    }
  },
  "cells": [
    {
      "cell_type": "code",
      "execution_count": 21,
      "metadata": {
        "colab": {
          "base_uri": "https://localhost:8080/"
        },
        "id": "pg-VvMklzaGA",
        "outputId": "414fc33a-436b-43d0-95f6-c781c2d23b7f"
      },
      "outputs": [
        {
          "output_type": "stream",
          "name": "stdout",
          "text": [
            "please inter any number6\n",
            "654321\n",
            "\n",
            "54321\n",
            "\n",
            "4321\n",
            "\n",
            "321\n",
            "\n",
            "21\n",
            "\n",
            "1\n",
            "\n"
          ]
        }
      ],
      "source": [
        "def PrintFormat(num):\n",
        "  y=num\n",
        "  for x in range(num):\n",
        "    for i in range(y,0,-1):\n",
        "       print(i,end=\"\")\n",
        "    y=y-1\n",
        "    print('\\n')\n",
        "\n",
        "number=int(input(\"please inter any number\"))\n",
        "PrintFormat(number)"
      ]
    },
    {
      "cell_type": "code",
      "source": [
        ""
      ],
      "metadata": {
        "colab": {
          "base_uri": "https://localhost:8080/"
        },
        "id": "OiJk3Obuzvt3",
        "outputId": "987d2e41-fb10-42be-a816-03a9773926be"
      },
      "execution_count": 13,
      "outputs": [
        {
          "name": "stdout",
          "output_type": "stream",
          "text": [
            "what is the product of 7 * 24 ?23\n",
            "Your Answer is wrong try again..\n",
            "what is the product of 7 * 24 ?168\n"
          ]
        }
      ]
    }
  ]
}